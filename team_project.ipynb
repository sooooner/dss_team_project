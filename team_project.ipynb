{
 "cells": [
  {
   "cell_type": "code",
   "execution_count": 1,
   "metadata": {
    "collapsed": true
   },
   "outputs": [],
   "source": [
    "import numpy as np\n",
    "import pandas as pd\n",
    "import scipy as sp\n",
    "import seaborn as sns\n",
    "sns.set()\n",
    "sns.set_style(\"whitegrid\")\n",
    "sns.set_color_codes()\n",
    "import matplotlib.pyplot as plt\n",
    "%matplotlib inline\n",
    "\n",
    "import statsmodels.api as sm\n",
    "import statsmodels.formula.api as smf\n",
    "import statsmodels.stats.api as sms\n",
    "import sklearn as sk\n"
   ]
  },
  {
   "cell_type": "markdown",
   "metadata": {},
   "source": [
    "# dss_team_project\n",
    "\n",
    "## [House Price: Adcanced Regressin Techniques](https://www.kaggle.com/c/house-prices-advanced-regression-techniques)\n",
    "+ team lucky\n",
    "  + 권순호, 지성민, 김동현\n",
    "\n",
    "+ Goal\n",
    "\t* it is your job to predict the sales price for each house.\n",
    "\t* For each Id in test set, you must predict the value of the SalePrice variable.\n",
    "\n",
    "+ Metric\n",
    "\t* submissions are evaluated in Root-Mean-Squared-Error (RMSE) between the logarithm of the predicted value and the logarithm of the observed sales price.(Taking logs means that errors in predicting expensive houses and cheap houses will affect the result equally)\n",
    "\n",
    "+ porject index\n",
    "\t* ~ 10/10 EDA(Exploratory data analysis)\n",
    "\t* ~ 10/14 Feature selection\n",
    "\t* ~ 10/16 Modeling(OLS Regression)\n",
    "\t* ~ 10/21 Model selection\n",
    "\t* ~ 10/25 Project 발표\n"
   ]
  },
  {
   "cell_type": "markdown",
   "metadata": {},
   "source": [
    "### EDA \n",
    "+ 변수 탐색 및 분류\n",
    "  + 변수가 무엇을 의미하는지 파악\n",
    "  + 상관관계가 없는 변수는 어떤것이 있나?\n",
    "  + 판매가격과 상관관계가 없는 변수는 어떻게 처리할 것인가?  #오탈자 수정\n",
    "  + 의미없는값, 전처리가 필요한 값들을 선별및 가공하자\n",
    "\n",
    "\n",
    "+ EDA 담당 Column\n",
    "  + 김동현 : 01. MSSubClass ~ 28. Foundation (28개)   \n",
    "  + 지성민 : 29. BsmtQual ~ 54. Functional (26개)  \n",
    "  + 권순호 : 55. Fireplaces ~ 78. SalesCondition (24개)  \n",
    "  "
   ]
  },
  {
   "cell_type": "code",
   "execution_count": 2,
   "metadata": {},
   "outputs": [
    {
     "data": {
      "text/html": [
       "<div>\n",
       "<style>\n",
       "    .dataframe thead tr:only-child th {\n",
       "        text-align: right;\n",
       "    }\n",
       "\n",
       "    .dataframe thead th {\n",
       "        text-align: left;\n",
       "    }\n",
       "\n",
       "    .dataframe tbody tr th {\n",
       "        vertical-align: top;\n",
       "    }\n",
       "</style>\n",
       "<table border=\"1\" class=\"dataframe\">\n",
       "  <thead>\n",
       "    <tr style=\"text-align: right;\">\n",
       "      <th></th>\n",
       "      <th>MSSubClass</th>\n",
       "      <th>MSZoning</th>\n",
       "      <th>LotFrontage</th>\n",
       "      <th>LotArea</th>\n",
       "      <th>Street</th>\n",
       "      <th>Alley</th>\n",
       "      <th>LotShape</th>\n",
       "      <th>LandContour</th>\n",
       "      <th>Utilities</th>\n",
       "      <th>LotConfig</th>\n",
       "      <th>...</th>\n",
       "      <th>PoolArea</th>\n",
       "      <th>PoolQC</th>\n",
       "      <th>Fence</th>\n",
       "      <th>MiscFeature</th>\n",
       "      <th>MiscVal</th>\n",
       "      <th>MoSold</th>\n",
       "      <th>YrSold</th>\n",
       "      <th>SaleType</th>\n",
       "      <th>SaleCondition</th>\n",
       "      <th>SalePrice</th>\n",
       "    </tr>\n",
       "    <tr>\n",
       "      <th>Id</th>\n",
       "      <th></th>\n",
       "      <th></th>\n",
       "      <th></th>\n",
       "      <th></th>\n",
       "      <th></th>\n",
       "      <th></th>\n",
       "      <th></th>\n",
       "      <th></th>\n",
       "      <th></th>\n",
       "      <th></th>\n",
       "      <th></th>\n",
       "      <th></th>\n",
       "      <th></th>\n",
       "      <th></th>\n",
       "      <th></th>\n",
       "      <th></th>\n",
       "      <th></th>\n",
       "      <th></th>\n",
       "      <th></th>\n",
       "      <th></th>\n",
       "      <th></th>\n",
       "    </tr>\n",
       "  </thead>\n",
       "  <tbody>\n",
       "    <tr>\n",
       "      <th>1</th>\n",
       "      <td>60</td>\n",
       "      <td>RL</td>\n",
       "      <td>65.0</td>\n",
       "      <td>8450</td>\n",
       "      <td>Pave</td>\n",
       "      <td>NaN</td>\n",
       "      <td>Reg</td>\n",
       "      <td>Lvl</td>\n",
       "      <td>AllPub</td>\n",
       "      <td>Inside</td>\n",
       "      <td>...</td>\n",
       "      <td>0</td>\n",
       "      <td>NaN</td>\n",
       "      <td>NaN</td>\n",
       "      <td>NaN</td>\n",
       "      <td>0</td>\n",
       "      <td>2</td>\n",
       "      <td>2008</td>\n",
       "      <td>WD</td>\n",
       "      <td>Normal</td>\n",
       "      <td>208500</td>\n",
       "    </tr>\n",
       "    <tr>\n",
       "      <th>2</th>\n",
       "      <td>20</td>\n",
       "      <td>RL</td>\n",
       "      <td>80.0</td>\n",
       "      <td>9600</td>\n",
       "      <td>Pave</td>\n",
       "      <td>NaN</td>\n",
       "      <td>Reg</td>\n",
       "      <td>Lvl</td>\n",
       "      <td>AllPub</td>\n",
       "      <td>FR2</td>\n",
       "      <td>...</td>\n",
       "      <td>0</td>\n",
       "      <td>NaN</td>\n",
       "      <td>NaN</td>\n",
       "      <td>NaN</td>\n",
       "      <td>0</td>\n",
       "      <td>5</td>\n",
       "      <td>2007</td>\n",
       "      <td>WD</td>\n",
       "      <td>Normal</td>\n",
       "      <td>181500</td>\n",
       "    </tr>\n",
       "    <tr>\n",
       "      <th>3</th>\n",
       "      <td>60</td>\n",
       "      <td>RL</td>\n",
       "      <td>68.0</td>\n",
       "      <td>11250</td>\n",
       "      <td>Pave</td>\n",
       "      <td>NaN</td>\n",
       "      <td>IR1</td>\n",
       "      <td>Lvl</td>\n",
       "      <td>AllPub</td>\n",
       "      <td>Inside</td>\n",
       "      <td>...</td>\n",
       "      <td>0</td>\n",
       "      <td>NaN</td>\n",
       "      <td>NaN</td>\n",
       "      <td>NaN</td>\n",
       "      <td>0</td>\n",
       "      <td>9</td>\n",
       "      <td>2008</td>\n",
       "      <td>WD</td>\n",
       "      <td>Normal</td>\n",
       "      <td>223500</td>\n",
       "    </tr>\n",
       "    <tr>\n",
       "      <th>4</th>\n",
       "      <td>70</td>\n",
       "      <td>RL</td>\n",
       "      <td>60.0</td>\n",
       "      <td>9550</td>\n",
       "      <td>Pave</td>\n",
       "      <td>NaN</td>\n",
       "      <td>IR1</td>\n",
       "      <td>Lvl</td>\n",
       "      <td>AllPub</td>\n",
       "      <td>Corner</td>\n",
       "      <td>...</td>\n",
       "      <td>0</td>\n",
       "      <td>NaN</td>\n",
       "      <td>NaN</td>\n",
       "      <td>NaN</td>\n",
       "      <td>0</td>\n",
       "      <td>2</td>\n",
       "      <td>2006</td>\n",
       "      <td>WD</td>\n",
       "      <td>Abnorml</td>\n",
       "      <td>140000</td>\n",
       "    </tr>\n",
       "    <tr>\n",
       "      <th>5</th>\n",
       "      <td>60</td>\n",
       "      <td>RL</td>\n",
       "      <td>84.0</td>\n",
       "      <td>14260</td>\n",
       "      <td>Pave</td>\n",
       "      <td>NaN</td>\n",
       "      <td>IR1</td>\n",
       "      <td>Lvl</td>\n",
       "      <td>AllPub</td>\n",
       "      <td>FR2</td>\n",
       "      <td>...</td>\n",
       "      <td>0</td>\n",
       "      <td>NaN</td>\n",
       "      <td>NaN</td>\n",
       "      <td>NaN</td>\n",
       "      <td>0</td>\n",
       "      <td>12</td>\n",
       "      <td>2008</td>\n",
       "      <td>WD</td>\n",
       "      <td>Normal</td>\n",
       "      <td>250000</td>\n",
       "    </tr>\n",
       "  </tbody>\n",
       "</table>\n",
       "<p>5 rows × 80 columns</p>\n",
       "</div>"
      ],
      "text/plain": [
       "    MSSubClass MSZoning  LotFrontage  LotArea Street Alley LotShape  \\\n",
       "Id                                                                    \n",
       "1           60       RL         65.0     8450   Pave   NaN      Reg   \n",
       "2           20       RL         80.0     9600   Pave   NaN      Reg   \n",
       "3           60       RL         68.0    11250   Pave   NaN      IR1   \n",
       "4           70       RL         60.0     9550   Pave   NaN      IR1   \n",
       "5           60       RL         84.0    14260   Pave   NaN      IR1   \n",
       "\n",
       "   LandContour Utilities LotConfig    ...     PoolArea PoolQC Fence  \\\n",
       "Id                                    ...                             \n",
       "1          Lvl    AllPub    Inside    ...            0    NaN   NaN   \n",
       "2          Lvl    AllPub       FR2    ...            0    NaN   NaN   \n",
       "3          Lvl    AllPub    Inside    ...            0    NaN   NaN   \n",
       "4          Lvl    AllPub    Corner    ...            0    NaN   NaN   \n",
       "5          Lvl    AllPub       FR2    ...            0    NaN   NaN   \n",
       "\n",
       "   MiscFeature MiscVal MoSold  YrSold  SaleType  SaleCondition  SalePrice  \n",
       "Id                                                                         \n",
       "1          NaN       0      2    2008        WD         Normal     208500  \n",
       "2          NaN       0      5    2007        WD         Normal     181500  \n",
       "3          NaN       0      9    2008        WD         Normal     223500  \n",
       "4          NaN       0      2    2006        WD        Abnorml     140000  \n",
       "5          NaN       0     12    2008        WD         Normal     250000  \n",
       "\n",
       "[5 rows x 80 columns]"
      ]
     },
     "execution_count": 2,
     "metadata": {},
     "output_type": "execute_result"
    }
   ],
   "source": [
    "df = pd.read_csv('./data/train.csv')\n",
    "df = df.set_index(\"Id\")\n",
    "df.head()"
   ]
  },
  {
   "cell_type": "code",
   "execution_count": 3,
   "metadata": {},
   "outputs": [
    {
     "data": {
      "text/plain": [
       "Index(['MSSubClass', 'MSZoning', 'LotFrontage', 'LotArea', 'Street', 'Alley',\n",
       "       'LotShape', 'LandContour', 'Utilities', 'LotConfig', 'LandSlope',\n",
       "       'Neighborhood', 'Condition1', 'Condition2', 'BldgType', 'HouseStyle',\n",
       "       'OverallQual', 'OverallCond', 'YearBuilt', 'YearRemodAdd', 'RoofStyle',\n",
       "       'RoofMatl', 'Exterior1st', 'Exterior2nd', 'MasVnrType', 'MasVnrArea',\n",
       "       'ExterQual', 'ExterCond', 'Foundation', 'BsmtQual', 'BsmtCond',\n",
       "       'BsmtExposure', 'BsmtFinType1', 'BsmtFinSF1', 'BsmtFinType2',\n",
       "       'BsmtFinSF2', 'BsmtUnfSF', 'TotalBsmtSF', 'Heating', 'HeatingQC',\n",
       "       'CentralAir', 'Electrical', '1stFlrSF', '2ndFlrSF', 'LowQualFinSF',\n",
       "       'GrLivArea', 'BsmtFullBath', 'BsmtHalfBath', 'FullBath', 'HalfBath',\n",
       "       'BedroomAbvGr', 'KitchenAbvGr', 'KitchenQual', 'TotRmsAbvGrd',\n",
       "       'Functional', 'Fireplaces', 'FireplaceQu', 'GarageType', 'GarageYrBlt',\n",
       "       'GarageFinish', 'GarageCars', 'GarageArea', 'GarageQual', 'GarageCond',\n",
       "       'PavedDrive', 'WoodDeckSF', 'OpenPorchSF', 'EnclosedPorch', '3SsnPorch',\n",
       "       'ScreenPorch', 'PoolArea', 'PoolQC', 'Fence', 'MiscFeature', 'MiscVal',\n",
       "       'MoSold', 'YrSold', 'SaleType', 'SaleCondition', 'SalePrice'],\n",
       "      dtype='object')"
      ]
     },
     "execution_count": 3,
     "metadata": {},
     "output_type": "execute_result"
    }
   ],
   "source": [
    "df.keys()"
   ]
  },
  {
   "cell_type": "markdown",
   "metadata": {},
   "source": [
    "#### 건축물\n",
    "1.\tMSSubClass : 거주유형\n",
    "2.\t MSZoning : 일반 구역분류\n",
    "3.\t LotFrontage : 자산에서 도로까지의 거리(단위:feet)\n",
    "4.\t LotArea : 크기(단위:평방피트)\n",
    "5.\t Street : 근접한 도로의 유형 ( Gravel-비포장(자갈) / Paved-포장 ) \n",
    "6.\t  Alley : 근접한 골목의 유형\n",
    "7.\t LotShape : 자산의 일반적인 형태\n",
    "8.\t LandContour : 건물의 평평한 정도\n",
    "9.\t Utilities : 가능한 편의시설의 종류\n",
    "10.\tLot configuration : 부지 구성\n",
    "11.\tLandSlope : 건물의 기울기\n",
    "12.\tNeighborhood : 에임즈 시내 한정 물리적 위치\n",
    "13.\tCondition1 : 여러 조건에의 근접성\n",
    "14.\tCondition2 : 13이 달성된 상태에서의 여러 조건의 근접성\n",
    "15.\tBldgType : 건물 형태(1가족, 2가족, 양면가옥, 타운하우스)\n",
    "16.\tHouseStyle : 주거 스타일 (1층, 1층 반, 2층, 등등)\n",
    "17.\tOverallCond : 가옥의 전체적인 조건 (매우 훌륭, 훌륭, 매우 좋음, 좋음, 등등)\n",
    "\n",
    "#### 준공 년도\n",
    "18.\tYearBuilt : 초기 준공연도\n",
    "19.\tYearRemodAdd : 리모델링연도(초기준공연도와 같다면 no remodeling or additions)\n",
    "\n",
    "#### 형태, 재료\n",
    "20.\tRoofStyle : 지붕 형태 (평면, 박공(삼각), 등등)\n",
    "21.\tRoofMatl : 지붕 재료 (점토, 표준, 금속, 등등)\n",
    "22.\tExterior1st : 건물 외벽 (아스팔트, 벽돌 등등)\n",
    "23.\tExterior2nd : 건물 외벽 (건물외벽1의 재료 보다 많은 경우)\n",
    "24.\tMasVnrType : 석조 베니어 유형 (보통 벽돌, 벽돌 노출, 콘크리트 블럭, 없음, 돌)\n",
    "25.\tMasVnrArea : 석조 베니어 면적 (평방 피트)\n",
    "26.\tExterQual : 건물 외벽 재료의 품질 (탁월함, 좋음, 평균, 나쁨 등)\n",
    "27.\tExterCond : 건물 외벽 재료의 현재 상태 (탁월함, 좋음, 평균, 나쁨 등)\n",
    "28.\tFoundation : 건물 기초의 종류 (벽돌, 콘크리트 블록, 공구리, 돌) \n",
    "\n",
    "#### 지하층\n",
    "29.\tBsmtQual : 지하층의 높이에 대한 평가 (탁월함, 좋음, 등등)\n",
    "30.\tBsmtCond : 지하층에 대한 전반적인 평가 (탁월함, 좋음 등등)\n",
    "31.\tBsmtExposure : 지하층 노출 \n",
    "32.\tBsmtFinType1 : 지하실 완성 구역의 등급 (살기 좋은, 살기 보통인, 평균적인, 등등)\n",
    "33.\tBsmtFinSF1 : 지하실 완성 구역의 넓이-타입1 (평방 피트)\n",
    "34.\tBsmtFinType2 : 지하실 완성 구역의 등급 – 여러 타입이라면 (살기 좋은, 등등)\n",
    "35.\tBsmtFinSF2 : 지하실 완성 구역의 넓이-타입2 (평방 피트)\n",
    "36.\tBsmtUnfSF : 지하실 미완성 구역의 넓이 (평방 피트)\n",
    "37.\tTotalBsmtSF : 지하실 전체 넓이 (평방 피트)\n",
    "\n",
    "#### 냉,난방\n",
    "38.\tHeating : 난방 종류 (바닥난로, 가스 공기 가열, 가스 스팀, 벽난로 등)\n",
    "39.\tHeatingQC : 난반의 품질과 상태 (탁월함, 좋음, 평균, 꽤, 나쁨)\n",
    "40.\tCentralAir : 중앙 에어컨 (Y/N)\n",
    "41.\tElectrical : 전기시스템 \n",
    "\n",
    "#### 층별 넓이\n",
    "42.\t1stFlrSF : 1층 넓이 (평방 피트)\n",
    "43.\t2ndFlrSF : 2층 넓이 (평방 피트)\n",
    "44.\tLowQualFinSF : 낮은 품질로 마감된 평방 피트\n",
    "45.\tGrLivArea : 지상의 거주구역 넓이(평방피트)\n",
    "\n",
    "#### 화장실\n",
    "46.\tBsmtFullBath : 지하실 풀 샤워실\n",
    "47.\tBsmtHalfBath : 지하실 반 샤워실\n",
    "48.\tFullBath : 지상 풀 샤워실\n",
    "49.\tHalfBath : 지상 반 샤워실\n",
    "\n",
    "#### 침실\n",
    "50.\tBedroom : 지상 침실\n",
    "\n",
    "#### 주방\n",
    "51.\tKitchen : 지상 부엌\n",
    "52.\tKitchenQual : 주방의 품질 (탁월, 좋음, 평균, 꽤, 나쁨)\n",
    "\n",
    "#### 방갯수\n",
    "53.\tTotRmsAbvGrd : 지상의 총 방 개수\n",
    "\n",
    "#### 집기능\n",
    "54.\tFunctional : 집의 기능 (잘 기능함, 다소 부족함, 많이 부족함, 꽤 망가짐, 폐기물)\n",
    "\n",
    "#### 벽난로\n",
    "55.\tFireplaces : 벽난로 갯수\n",
    "56.\tFireplaceQu : 벽난로의 품질\n",
    "\n",
    "#### 주차장\n",
    "57.\tGarageType : 주차장 위치 (1개 이상, 집에 붙어, 지하창고 등)\n",
    "58.\tGarageYrBlt : 주차장이 만들어진 연도\n",
    "59.\tGarageFinish : 주차장 인테리어 마감 정도 (마감됨, 거칠게 마감됨, 마감안됨, 주차장없음)\n",
    "60.\tGarageCars : 주차장의 차량 수용능력\n",
    "61.\tGarageArea : 주차장의 넓이 (평방 피트)\n",
    "62.\tGarageQual : 주차장의 품질 (탁월, 좋음, 평균, 다소, 나쁨, 주차장 없음)\n",
    "63.\tGarageCond : 주차장의 상태 (탁월, 좋음, 평균, 다소, 나쁨, 주차장 없음)\n",
    "\n",
    "#### 배란다\n",
    "64.\tPavedDrive : 포장도로 여부 (포장됨, 부분 포장, 먼지/자갈)\n",
    "65.\tWoodDeckSF : 나무 갑판지역의 넓이 (평방 피트)\n",
    "66.\tOpenPorchSF : 개방된 배란다-현관의 넓이 (평방 피트)\n",
    "67.\tEnclosedPorch : 내부 배란다-현관의 넓이 (평방 피트)\n",
    "68.\t3SsnPorch : 3계절 배란다-현관의 넓이 (평방 피트)\n",
    "69.\tScreenPorch : 스크린 배란다-현관의 넓이 (평방 피트)\n",
    "\n",
    "#### 수영장\n",
    "70.\tPoolArea : 수영장 넓이 (평방 피트)\n",
    "71.\tPoolQC : 수영장 품질\n",
    "\n",
    "#### 담장\n",
    "72.\tFence : 담장 품질\n",
    "\n",
    "#### 기타\n",
    "73.\tMiscFeature : 기타 요소 (엘리베이터, 2층차고, 기타, 테니스코트, 등)\n",
    "74.\tMiscVal : 기타 요소의 가치\n",
    "\n",
    "#### 구매 날짜\n",
    "75.\tMoSold : 구매 월\n",
    "76.\tYrSold : 구매 년\n",
    "\n",
    "#### 판매\n",
    "77.\tSaleType : 판매 형식 (재래식 보증증서, 현금 보증증서, 대출 보증증서, 건설 후 판매, 등)\n",
    "78.\tSaleType : 판매 형식 (재래식 보증증서, 현금 보증증서, 대출 보증증서, 건설 후 판매, 등)\n"
   ]
  },
  {
   "cell_type": "code",
   "execution_count": 4,
   "metadata": {},
   "outputs": [
    {
     "ename": "SyntaxError",
     "evalue": "invalid syntax (<ipython-input-4-24c8bd6f1e16>, line 2)",
     "output_type": "error",
     "traceback": [
      "\u001b[0;36m  File \u001b[0;32m\"<ipython-input-4-24c8bd6f1e16>\"\u001b[0;36m, line \u001b[0;32m2\u001b[0m\n\u001b[0;31m    EnclosedPorch, 3SsnPorch, ScreenPorch, PoolArea, MiscVal, MoSold, YrSold\u001b[0m\n\u001b[0m                           ^\u001b[0m\n\u001b[0;31mSyntaxError\u001b[0m\u001b[0;31m:\u001b[0m invalid syntax\n"
     ]
    }
   ],
   "source": [
    "Fireplaces, GarageYrBlt, GarageCars, GarageArea, WoodDeckSF, OpenPorchSF, \n",
    "EnclosedPorch, 3SsnPorch, ScreenPorch, PoolArea, MiscVal, MoSold, YrSold"
   ]
  },
  {
   "cell_type": "code",
   "execution_count": null,
   "metadata": {
    "collapsed": true
   },
   "outputs": [],
   "source": [
    "FireplaceQu, GarageType, GarageFinish, GarageQual, GarageCond, PavedDrive, PoolQC,\n",
    "Fence, MiscFeature, SaleType, SaleCondition"
   ]
  },
  {
   "cell_type": "markdown",
   "metadata": {},
   "source": [
    "###  연속변수와 카테고리 변수로 구분"
   ]
  },
  {
   "cell_type": "code",
   "execution_count": null,
   "metadata": {
    "collapsed": true,
    "scrolled": true
   },
   "outputs": [],
   "source": [
    "# 연속 변수\n",
    "cols_real = ['MSSubClass', 'LotFrontage', 'LotArea', 'OverallQual', 'OverallCond', 'YearBuilt', 'BsmtFinSF1', 'BsmtFinSF2',\n",
    "             'BsmtUnfSF', 'TotalBsmtSF', '_1stFlrSF', '_2ndFlrSF', 'LowQualFinSF', 'GrLivArea', 'BsmtFullBath', 'BsmtHalfBath', \n",
    "             'FullBath', 'HalfBath', 'BedroomAbvGr', 'KitchenAbvGr', 'TotRmsAbvGrd', 'Fireplaces', 'GarageYrBlt', 'GarageCars', \n",
    "             'GarageArea', 'WoodDeckSF', 'OpenPorchSF', 'EnclosedPorch', '3SsnPorch', 'ScreenPorch', 'PoolArea', 'MiscVal', 'YrSold']\n",
    "\n",
    "# 카테고리 변수\n",
    "cols_cat = ['MSZoning', 'Street', 'Alley', 'LotShape', 'LandContour', 'Utilities', 'LotConfig', 'LandSlope', 'Neighborhood',\n",
    "            'Condition1', 'Condition2', 'BldgType', 'HouseStyle', 'YearRemodAdd', 'RoofStyle', 'RoofMatl', 'Exterior1st',\n",
    "            'Exterior2nd', 'MasVnrType', 'MasVnrArea', 'ExterQual', 'ExterCond', 'Foundation', 'BsmtQual', 'BsmtCond', 'BsmtExposure',\n",
    "            'BsmtFinType1', 'BsmtFinType2', 'Heating', 'HeatingQC', 'CentralAir', 'Electrical', 'KitchenQual', 'Functional', \n",
    "            'FireplaceQu', 'GarageType', 'GarageFinish', 'GarageQual', 'GarageCond', 'PavedDrive', 'PoolQC', 'Fence', 'MiscFeature', \n",
    "            'MoSold', 'SaleType', 'SaleCondition']\n",
    "            \n",
    "print(len(cols_real))\n",
    "print(len(cols_cat))\n",
    "\n",
    "# Data_Set 81개의 coloumn 중 Id 와 SalePrice 제외"
   ]
  },
  {
   "cell_type": "code",
   "execution_count": null,
   "metadata": {
    "collapsed": true
   },
   "outputs": [],
   "source": [
    "dfy = df.ix[:, :]\n",
    "dfX = df.ix[:, :]\n",
    "print(len(dfy.columns), len(dfX.columns))"
   ]
  },
  {
   "cell_type": "code",
   "execution_count": null,
   "metadata": {
    "collapsed": true
   },
   "outputs": [],
   "source": [
    "dfX_real = dfX[cols_real]\n",
    "dfX_cat = dfX[cols_cat]\n",
    "\n",
    "print(len(dfX_real.columns), len(dfX_cat.columns))"
   ]
  },
  {
   "cell_type": "markdown",
   "metadata": {},
   "source": [
    "### 상관계수와 상관계수 행렬\n",
    "* only for real variables\n",
    "* correlation coefficient with y ( SalePrice )\n",
    "  - MSSubClass\n",
    "  - LotFrontage\n",
    "  - LotArea\n",
    "  - OverallQual\n",
    "  - OverallCond\n",
    "  - YearBuilt\n",
    "  - BsmtFinSF1\n",
    "  - BsmtFinSF2\n",
    "  - BsmtUnfSF\n",
    "  - TotalBsmtSF\n",
    "  - 1stFlrSF\n",
    "  - 2ndFlrSF\n",
    "  - LowQualFinSF\n",
    "  - GrLivArea\n",
    "  - BsmtFullBath\n",
    "  - BsmtHalfBath\n",
    "  - FullBath\n",
    "  - HalfBath\n",
    "  - BedroomAbvGr\n",
    "  - KitchenAbvGr\n",
    "  - TotRmsAbvGrd\n",
    "  - Fireplaces\n",
    "  - GarageYrBlt\n",
    "  - GarageCars\n",
    "  - GarageArea\n",
    "  - WoodDeckSF\n",
    "  - OpenPorchSF\n",
    "  - EnclosedPorch\n",
    "  - 3SsnPorch\n",
    "  - ScreenPorch\n",
    "  - PoolArea\n",
    "  - MiscVal\n",
    "  - YrSold"
   ]
  },
  {
   "cell_type": "code",
   "execution_count": null,
   "metadata": {
    "collapsed": true,
    "scrolled": true
   },
   "outputs": [],
   "source": [
    "df_real = pd.concat([dfy.SalePrice, dfX_real], axis=1)\n",
    "df_real.head()"
   ]
  },
  {
   "cell_type": "code",
   "execution_count": null,
   "metadata": {
    "collapsed": true
   },
   "outputs": [],
   "source": [
    "# Correlation Matrix of dfX_real\n",
    "corrmat = df_real.corr()\n",
    "corrmat"
   ]
  },
  {
   "cell_type": "code",
   "execution_count": null,
   "metadata": {
    "collapsed": true
   },
   "outputs": [],
   "source": [
    "f, ax = plt.subplots(figsize=(60, 50))\n",
    "sns.heatmap(corrmat, annot=True)"
   ]
  },
  {
   "cell_type": "markdown",
   "metadata": {},
   "source": [
    "** 상관계수와 유의확률 확인**\n",
    "* all coefficients between y and X are fine"
   ]
  },
  {
   "cell_type": "code",
   "execution_count": null,
   "metadata": {
    "collapsed": true
   },
   "outputs": [],
   "source": [
    "# 피어슨 상관계수를 확인하는 함수 정의\n",
    "def check_pearsonr(y, X):\n",
    "    result = sp.stats.pearsonr(y, X)\n",
    "    print(\"rho : {}  ,  p-value : {}\".format(result[0], result[1]))"
   ]
  },
  {
   "cell_type": "markdown",
   "metadata": {},
   "source": [
    "* 아래 변수들은 유의미한 상관계수들이다."
   ]
  },
  {
   "cell_type": "code",
   "execution_count": null,
   "metadata": {
    "collapsed": true,
    "scrolled": false
   },
   "outputs": [],
   "source": [
    "check_pearsonr(df.SalePrice, df.OverallQual) # Overall material and finish quality : 전체 자재 및 마감재 품질\n",
    "check_pearsonr(df.SalePrice, df.YearBuilt) # Original construction date : 최초 건설 일자\n",
    "check_pearsonr(df.SalePrice, df.TotalBsmtSF) # Total square feet of basement area : TotalBsmtSF\n",
    "check_pearsonr(df.SalePrice, df._1stFlrSF) # First Floor square feet : 1층 평방 피트\n",
    "check_pearsonr(df.SalePrice, df.GrLivArea) # Above grade (ground) living area square feet : 거주 면적 평방피트 (지면)\n",
    "check_pearsonr(df.SalePrice, df.FullBath) # Full bathrooms above grade : 1등급 이상의 화장실\n",
    "check_pearsonr(df.SalePrice, df.TotRmsAbvGrd) # Total rooms above grade (does not include bathrooms) : 욕실을 제외한 등급 이상의 방 수\n",
    "check_pearsonr(df.SalePrice, df.Fireplaces) # Number of fireplaces : 벽난로 수\n",
    "check_pearsonr(df.SalePrice, df.GarageCars) # Size of garage in car capacity : 차고의 차 용량 크기\n"
   ]
  },
  {
   "cell_type": "markdown",
   "metadata": {},
   "source": [
    "* 그러나, 아래 변수들은 너무 낮은 상관계수를 나타내고 있다."
   ]
  },
  {
   "cell_type": "code",
   "execution_count": null,
   "metadata": {
    "collapsed": true
   },
   "outputs": [],
   "source": [
    "check_pearsonr(df.SalePrice, df.MSSubClass)\n",
    "check_pearsonr(df.SalePrice, df.LotFrontage)\n",
    "check_pearsonr(df.SalePrice, df.LotArea)\n",
    "check_pearsonr(df.SalePrice, df.OverallCond)\n",
    "check_pearsonr(df.SalePrice, df.BsmtFinSF1)\n",
    "check_pearsonr(df.SalePrice, df.BsmtFinSF2)\n",
    "check_pearsonr(df.SalePrice, df.BsmtUnfSF)\n",
    "check_pearsonr(df.SalePrice, df._2ndFlrSF)\n",
    "check_pearsonr(df.SalePrice, df.LowQualFinSF)\n",
    "check_pearsonr(df.SalePrice, df.BsmtFullBath)\n",
    "check_pearsonr(df.SalePrice, df.BsmtHalfBath)\n",
    "check_pearsonr(df.SalePrice, df.HalfBath)\n",
    "check_pearsonr(df.SalePrice, df.BedroomAbvGr)\n",
    "check_pearsonr(df.SalePrice, df.KitchenAbvGr)\n",
    "check_pearsonr(df.SalePrice, df.GarageYrBlt)\n",
    "check_pearsonr(df.SalePrice, df.WoodDeckSF)\n",
    "check_pearsonr(df.SalePrice, df.OpenPorchSF)\n",
    "check_pearsonr(df.SalePrice, df.EnclosedPorch)\n",
    "check_pearsonr(df.SalePrice, df._3SsnPorch)\n",
    "check_pearsonr(df.SalePrice, df.ScreenPorch)\n",
    "check_pearsonr(df.SalePrice, df.PoolArea)\n",
    "check_pearsonr(df.SalePrice, df.MiscVal)\n",
    "check_pearsonr(df.SalePrice, df.YrSold)\n"
   ]
  },
  {
   "cell_type": "code",
   "execution_count": null,
   "metadata": {
    "collapsed": true
   },
   "outputs": [],
   "source": []
  },
  {
   "cell_type": "code",
   "execution_count": null,
   "metadata": {
    "collapsed": true
   },
   "outputs": [],
   "source": [
    "# 유의미한 연속 변수들 구분\n",
    "cols_real_use = ['OverallQual', 'YearBuilt', 'TotalBsmtSF', '1stFlrSF', 'GrLivArea', 'TotRmsAbvGrd', 'FullBath', \n",
    "                'Fireplaces', 'GarageCars']\n",
    "\n",
    "dfX_real_use = dfX[cols_real_use]\n",
    "\n",
    "print(len(dfX_real_use.columns))"
   ]
  },
  {
   "cell_type": "code",
   "execution_count": null,
   "metadata": {
    "collapsed": true
   },
   "outputs": [],
   "source": [
    "df_real_use = pd.concat([dfy.SalePrice, dfX_real_use], axis=1)\n",
    "df_real_use.head()"
   ]
  },
  {
   "cell_type": "code",
   "execution_count": null,
   "metadata": {
    "collapsed": true
   },
   "outputs": [],
   "source": [
    "corrmat_use = df_real_use.corr()\n",
    "corrmat_use"
   ]
  },
  {
   "cell_type": "code",
   "execution_count": null,
   "metadata": {
    "collapsed": true
   },
   "outputs": [],
   "source": [
    "f, ax = plt.subplots(figsize=(10, 8))\n",
    "sns.heatmap(corrmat_use, annot=True)"
   ]
  },
  {
   "cell_type": "code",
   "execution_count": null,
   "metadata": {
    "collapsed": true
   },
   "outputs": [],
   "source": [
    "# 선택사항 : matplotlib.pyplot 스타일 리스트\n",
    "print(plt.style.available)"
   ]
  },
  {
   "cell_type": "code",
   "execution_count": null,
   "metadata": {
    "collapsed": true
   },
   "outputs": [],
   "source": [
    "for i in range(0, len(cols_real_use), 3):\n",
    "    print(\"dfX{}\".format(cols_real_use[i: i+3]))"
   ]
  },
  {
   "cell_type": "code",
   "execution_count": null,
   "metadata": {
    "collapsed": true
   },
   "outputs": [],
   "source": [
    "with plt.style.context(('seaborn-white')):\n",
    "    sns_plot = sns.pairplot(pd.concat([dfy.SalePrice, dfX[cols_real_use[:6]]], axis=1) ,size=1.5)\n",
    "\n",
    "    \n",
    "# Overall material and finish quality : 전체 자재 및 마감재 품질\n",
    "# Original construction date : 최초 건설 일자\n",
    "# Total square feet of basement area : TotalBsmtSF\n",
    "# First Floor square feet : 1층 평방 피트\n",
    "# Above grade (ground) living area square feet : 거주 면적 평방피트 (지면)\n",
    "# Total rooms above grade (does not include bathrooms) : 욕실을 제외한 등급 이상의 방 수\n"
   ]
  },
  {
   "cell_type": "code",
   "execution_count": null,
   "metadata": {
    "collapsed": true
   },
   "outputs": [],
   "source": [
    "with plt.style.context(('seaborn-white')):\n",
    "    sns_plot = sns.pairplot(pd.concat([dfy.SalePrice, dfX[cols_real_use[6:]]], axis=1) ,size=2.5)\n",
    "\n",
    "    \n",
    "# Full bathrooms above grade : 1등급 이상의 화장실\n",
    "# Number of fireplaces : 벽난로 수\n",
    "# Size of garage in car capacity : 차고의 차 용량 크기"
   ]
  },
  {
   "cell_type": "markdown",
   "metadata": {},
   "source": [
    "\n",
    "#### 벽난로\n",
    "Fireplaces : 벽난로 갯수\n",
    "\n",
    "FireplaceQu : 벽난로의 품질 \n",
    "* Ex Excellent - Exceptional Masonry Fireplace  \n",
    "* Gd Good - Masonry Fireplace in main level  \n",
    "* TA Average - Prefabricated Fireplace in main living area or Masonry Fireplace in basement  \n",
    "* Fa Fair - Prefabricated Fireplace in basement  \n",
    "* Po Poor - Ben Franklin Stove    \n",
    "* NA No Fireplace   \n",
    "\n",
    "#### 주차장\n",
    "GarageType : 주차장 위치 (1개 이상, 집에 붙어, 지하창고 등)\n",
    "* 2Types More than one type of garage  \n",
    "* Attchd Attached to home  \n",
    "* Basment Basement Garage  \n",
    "* BuiltIn Built-In (Garage part of house - typically has room above garage)  \n",
    "* CarPort Car Port  \n",
    "* Detchd Detached from home  \n",
    "* NA No Garage  \n",
    "\n",
    "GarageYrBlt : 주차장이 만들어진 연도\n",
    "\n",
    "GarageFinish : 주차장 인테리어 마감 정도 (마감됨, 거칠게 마감됨, 마감안됨, 주차장없음)\n",
    "* Fin Finished  \n",
    "* RFn Rough Finished  \n",
    "* Unf Unfinished  \n",
    "* NA No Garage  \n",
    "\n",
    "GarageCars : 주차장의 차량 수용능력  \n",
    "\n",
    "GarageArea : 주차장의 넓이 (평방 피트)\n",
    "\n",
    "GarageQual : 주차장의 품질 (탁월, 좋음, 평균, 다소, 나쁨, 주차장 없음)\n",
    "* Ex Excellent  \n",
    "* Gd Good  \n",
    "* TA Typical/Average  \n",
    "* Fa Fair  \n",
    "* Po Poor  \n",
    "* NA No Garage  \n",
    "\n",
    "GarageCond : 주차장의 상태 (탁월, 좋음, 평균, 다소, 나쁨, 주차장 없음)\n",
    "* Ex Excellent  \n",
    "* Gd Good  \n",
    "* TA Typical/Average  \n",
    "* Fa Fair  \n",
    "* Po Poor  \n",
    "* NA No Garage  \n",
    "\n",
    "#### 배란다\n",
    "PavedDrive : 포장도로 여부 (포장됨, 부분 포장, 먼지/자갈)\n",
    "* Y Paved  \n",
    "* P Partial Pavement  \n",
    "* N Dirt/Gravel  \n",
    "\n",
    "WoodDeckSF : 나무 갑판지역의 넓이 (평방 피트)\n",
    "\n",
    "OpenPorchSF : 개방된 배란다-현관의 넓이 (평방 피트)  \n",
    "\n",
    "EnclosedPorch : 내부 배란다-현관의 넓이 (평방 피트)\n",
    "\n",
    "3SsnPorch : 3계절 배란다-현관의 넓이 (평방 피트)\n",
    "\n",
    "ScreenPorch : 스크린 배란다-현관의 넓이 (평방 피트)\n",
    "\n",
    "#### 수영장\n",
    "PoolArea : 수영장 넓이 (평방 피트)\n",
    "\n",
    "PoolQC : 수영장 품질\n",
    "* Ex Excellent  \n",
    "* Gd Good  \n",
    "* TA Average/Typical  \n",
    "* Fa Fair  \n",
    "* NA No Pool  \n",
    "\n",
    "#### 담장\n",
    "Fence : 담장 품질\n",
    "* GdPrv Good Privacy  \n",
    "* MnPrv Minimum Privacy  \n",
    "* GdWo Good Wood  \n",
    "* MnWw Minimum Wood/Wire  \n",
    "* NA No Fence  \n",
    "\n",
    "#### 기타\n",
    "MiscFeature : 기타 요소 (엘리베이터, 2층차고, 기타, 테니스코트, 등)\n",
    "* Elev Elevator  \n",
    "* Gar2 2nd Garage (if not described in garage section)  \n",
    "* Othr Other  \n",
    "* Shed Shed (over 100 SF)  \n",
    "* TenC Tennis Court  \n",
    "* NA None  \n",
    "\n",
    "MiscVal : 기타 요소의 가치\n",
    "\n",
    "#### 구매 날짜\n",
    "MoSold : 구매 월\n",
    "\n",
    "YrSold : 구매 년\n",
    "\n",
    "#### 판매\n",
    "SaleType : 판매 형식 (재래식 보증증서, 현금 보증증서, 대출 보증증서, 건설 후 판매, 등)\n",
    "* WD Warranty Deed - Conventional  \n",
    "* CWD Warranty Deed - Cash  \n",
    "* VWD Warranty Deed - VA Loan  \n",
    "* New Home just constructed and sold  \n",
    "* COD Court Officer Deed/Estate  \n",
    "* Con Contract 15% Down payment regular terms  \n",
    "* ConLw Contract Low Down payment and low interest  \n",
    "* ConLI Contract Low Interest  \n",
    "* ConLD Contract Low Down  \n",
    "* Oth Other  \n",
    "\n",
    "SaleCondition : 판매조건 (일반판매, 비정상판매-압류, 급매, 인접토지구매, 할당, 가족간거래, 건축미완공)\n",
    "* Normal Normal Sale  \n",
    "* Abnorml Abnormal Sale - trade, foreclosure, short sale  \n",
    "* AdjLand Adjoining Land Purchase  \n",
    "* Alloca Allocation - two linked properties with separate deeds, typically condo with a garage unit  \n",
    "* Family Sale between family members  \n",
    "* Partial Home was not completed when last assessed (associated with New Homes)  "
   ]
  },
  {
   "cell_type": "markdown",
   "metadata": {},
   "source": [
    "# 개인작업_Column 01.~28 분석"
   ]
  },
  {
   "cell_type": "markdown",
   "metadata": {},
   "source": [
    "## 양적 변수와 카테고리 변수 분류\n",
    "* MSSubClass 를 카테고리변수로 이동\n",
    "* YearRemodAdd 와 MasVnrArea 를 양적변수로 이동"
   ]
  },
  {
   "cell_type": "code",
   "execution_count": 5,
   "metadata": {},
   "outputs": [
    {
     "name": "stdout",
     "output_type": "stream",
     "text": [
      "8\n",
      "20\n"
     ]
    }
   ],
   "source": [
    "# 양적 변수\n",
    "cols_real_work1 = ['LotFrontage', 'LotArea', 'OverallQual', 'OverallCond', 'YearBuilt', 'YearRemodAdd', 'MasVnrArea', 'SalePrice']\n",
    "\n",
    "# 카테고리 변수\n",
    "cols_cat_work1 = ['MSSubClass', 'MSZoning', 'Street', 'LotShape', 'LandContour', 'LotConfig', 'LandSlope', 'Neighborhood',\n",
    "                  'Condition1', 'Condition2', 'BldgType', 'HouseStyle', 'RoofStyle', 'RoofMatl', 'Exterior1st',\n",
    "                  'Exterior2nd', 'MasVnrType', 'ExterQual', 'ExterCond', 'Foundation']\n",
    "            \n",
    "print(len(cols_real_work1))\n",
    "print(len(cols_cat_work1))\n"
   ]
  },
  {
   "cell_type": "code",
   "execution_count": 6,
   "metadata": {},
   "outputs": [
    {
     "name": "stdout",
     "output_type": "stream",
     "text": [
      "Index(['LotFrontage', 'LotArea', 'OverallQual', 'OverallCond', 'YearBuilt',\n",
      "       'YearRemodAdd', 'MasVnrArea', 'SalePrice'],\n",
      "      dtype='object')\n",
      "   LotFrontage  LotArea  OverallQual  OverallCond  YearBuilt  YearRemodAdd  \\\n",
      "0         65.0     8450            7            5       2003          2003   \n",
      "1         80.0     9600            6            8       1976          1976   \n",
      "2         68.0    11250            7            5       2001          2002   \n",
      "3         60.0     9550            7            5       1915          1970   \n",
      "4         84.0    14260            8            5       2000          2000   \n",
      "\n",
      "   MasVnrArea  SalePrice  \n",
      "0       196.0     208500  \n",
      "1         0.0     181500  \n",
      "2       162.0     223500  \n",
      "3         0.0     140000  \n",
      "4       350.0     250000  \n"
     ]
    }
   ],
   "source": [
    "df_scatr_work1 = pd.read_csv('./data/train.csv', usecols=cols_real_work1)\n",
    "\n",
    "print (df_scatr_work1.columns)\n",
    "print (df_scatr_work1.head())"
   ]
  },
  {
   "cell_type": "code",
   "execution_count": 7,
   "metadata": {},
   "outputs": [
    {
     "data": {
      "image/png": "[encoded data removed]",
      "text/plain": [
       "<matplotlib.figure.Figure at 0x7f5f4b700048>"
      ]
     },
     "metadata": {},
     "output_type": "display_data"
    }
   ],
   "source": [
    "compare_feature_work1 = df_scatr_work1.corr()\n",
    "draw = sns.heatmap(compare_feature_work1, annot = True)\n",
    "plt.show(draw)"
   ]
  },
  {
   "cell_type": "code",
   "execution_count": 8,
   "metadata": {
    "collapsed": true
   },
   "outputs": [],
   "source": [
    "cols_real_work1_use = ['OverallQual', 'YearBuilt', 'YearRemodAdd', 'MasVnrArea', 'SalePrice']"
   ]
  },
  {
   "cell_type": "code",
   "execution_count": 9,
   "metadata": {
    "collapsed": true
   },
   "outputs": [],
   "source": [
    "df_scatr1_work1= df.loc[:, cols_real_work1_use]"
   ]
  },
  {
   "cell_type": "code",
   "execution_count": 10,
   "metadata": {},
   "outputs": [
    {
     "data": {
      "image/png": "[encoded data removed]",
      "text/plain": [
       "<matplotlib.figure.Figure at 0x7f5f494bf208>"
      ]
     },
     "metadata": {},
     "output_type": "display_data"
    }
   ],
   "source": [
    "compare_feature1 = df_scatr1_work1.corr()\n",
    "draw = sns.heatmap(compare_feature1, annot = True)\n",
    "plt.show(draw)"
   ]
  },
  {
   "cell_type": "code",
   "execution_count": 11,
   "metadata": {},
   "outputs": [
    {
     "data": {
      "image/png": "[encoded data removed]",
      "text/plain": [
       "<matplotlib.figure.Figure at 0x7f5f493a3048>"
      ]
     },
     "metadata": {},
     "output_type": "display_data"
    }
   ],
   "source": [
    "with plt.style.context(('seaborn-white')):\n",
    "    sns_plot = sns.pairplot(pd.concat([df_scatr1_work1.SalePrice, df_scatr1_work1[cols_real_work1_use[:3]]], axis=1) ,size=1)\n",
    "plt.show()"
   ]
  },
  {
   "cell_type": "markdown",
   "metadata": {},
   "source": [
    "## 양적변수 분석결과\n",
    "#### 분석대상 : 8 개의 변수 (LotFrontage, LotArea, OverallQual, OverAllCond, YearBuilt, YearRemodAdd, MasVnrArea)\n",
    "\n",
    "#### 상관계수 결과\n",
    "* LotFrontage : 0.34   | 배제\n",
    "* LotArea : 0.24       | 배제\n",
    "* OverallQual : 0.79   | 선택\n",
    "* OverAllCond : -0.082 | 배제\n",
    "* YearBuilt : 0.54     | 선택\n",
    "* YearRemodAdd : 0.53  | 선택\n",
    "* MasVnrArea : 0.45    | 선택? 배제?\n",
    "\n",
    "### 문제제기\n",
    "\n",
    " ##### LotFrontage\n",
    "* LotFrontage 의 가격-상관계수는 0.34임. 하지만, 자료자체에 0 값이 많아서 왜곡이 발생하였을 가능성 존재함. \n",
    "* 이를 해결하기 위해 0이 포함된 행을 제거하고, 다시 상관관계를 구해서 실제로 무의미한 변수인지 확인하는 작업이 필요할 듯.\n",
    "\n",
    "##### YearBuilt 와 YearRemodAdd \n",
    "* 개념상으로 YearRemodAdd는 리모델링을 하지 않았을 경우는 YearBuilt의 값을 쓰기 때문에 YearBuilt의 내용을 포함한 더 업데이트된 자료라고 보여짐. \n",
    "* 그런데 오히려 상관계수는 0.01 더 낮음. \n",
    "* 이를 해결하기 위해 YearBuilt 와 YearRemodAdd를 병합할지, 아니면 양쪽 중 하나만 쓸지, 아니면 조작없이 둘 다 쓸지 결정할 필요 있음.\n",
    "* YearRemodAdd 의 상관계수가 0.01 더 낮은 이유에 대해서 고찰 필요할 듯.\n",
    "\n",
    "##### MasVnrArea\n",
    "* Pairplot 이 안그려짐. Error 이유는 맥스값이 민값보다 낮다고 함.\n",
    "* 정확한 원인은 모르겠지만 Value에 0 이 많아서 그렇지 않을까 추측함. \n",
    "* 이로 인한 왜곡가능성의 존재? 상관도도 0.45 임. 버릴까?\n"
   ]
  },
  {
   "cell_type": "code",
   "execution_count": null,
   "metadata": {
    "collapsed": true
   },
   "outputs": [],
   "source": [
    "cols_cat_work1 = ['MSSubClass', 'MSZoning', 'Street', 'Alley', 'LotShape', 'LandContour', \n",
    "                 'LotConfig', 'LandSlope', 'Neighborhood', 'Condition1', 'Condition2', 'BldgType', \n",
    "                 'HouseStyle', 'RoofStyle', 'RoofMatl', 'Exterior1st', 'Exterior2nd', 'MasVnrType', \n",
    "                 'ExterQual', 'ExterCond', 'Foundation', 'SalePrice']\n",
    "\n",
    "cols_cat_work11 = ['MSSubClass', 'MSZoning', 'Street', 'Alley', 'LotShape', 'LandContour', \n",
    "                 'LotConfig', 'LandSlope', 'Neighborhood', 'Condition1', 'Condition2', 'BldgType', 'SalePrice']\n",
    "\n",
    "cols_cat_work12 = ['HouseStyle', 'RoofStyle', 'RoofMatl', 'Exterior1st', 'Exterior2nd', 'MasVnrType', \n",
    "                 'ExterQual', 'ExterCond', 'Foundation', 'SalePrice']\n",
    "                  "
   ]
  },
  {
   "cell_type": "markdown",
   "metadata": {},
   "source": [
    "## 질적변수의 내용들을 숫자로 바꾸는 전처리작업 필요함!!  with Pandas??\n",
    "#### 변경코드\n",
    "* MSZoning : A - 1, C - 2, FV - 3, I - 4, RH - 5, RL - 6, RP - 7, RM - 8\n",
    "* Lotshape : Reg - 1, IR1 - 2, IR2 - 3, IR3 - 4\n",
    "* LandContour : Lvl - 1, Bnk - 2, HLS - 3, Low - 4\n",
    "* Lotconfig : Inside - 1, Corner - 2, CulDSac - 3, FR2 - 4, FR3 - 5\n",
    "* LandSlope : Gtl - 1, Mod - 2, Sev - 3\n",
    "* Neighborhood : \n",
    "* Condition1 : Artery - 1, Feedr - 2, Norm - 3, RRNn - 4, RRAn - 5, PosN - 6, PosA - 7, RRNe - 8, RRAe - 9\n",
    "* Condition2 : Artery - 1, Feedr - 2, Norm - 3, RRNn - 4, RRAn - 5, PosN - 6, PosA - 7, RRNe - 8, RRAe - 9\n",
    "* BldgType : 1Fam - 1, 2FmCon - 2, Duplx - 3, TwnhsE - 4, TwnhsI - 5\n",
    "* HouseStyle : 1Story - 1, 1.5Fin - 2, 1.5Unf - 3, 2Story - 4, 2.5Fin - 5, 2.5Unf - 6, SFoyer - 7, SLvl - 8\n",
    "* RoofStyle : Flat - 1, Gable - 2, Gambrel - 3, Hip - 4, Mansard - 5, Shed - 6\n",
    "* RoofMatl : ClyTile - 1, CompShg - 2, Membran - 3, Metal - 4, Roll - 5, Tar&Grv - 6, WdShake - 7, WdShngl - 8\n",
    "* Exterior1st : AsbShng - 1, AsphShn - 2, BrkComm - 3, BrkFace - 4, CBlock - 5, CemntBd - 6, HdBoard - 7, ImStucc - 8, MetalSd - 9, Other - 10, Plywood - 11, PreCast - 12, Stone - 13, Stucco - 14, VinylSld - 15, Wd Sdng - 16, WdShing - 17\n",
    "* Exterior2nd : AsbShng - 1, AsphShn - 2, BrkComm - 3, BrkFace - 4, CBlock - 5, CemntBd - 6, HdBoard - 7, ImStucc - 8, MetalSd - 9, Other - 10, Plywood - 11, PreCast - 12, Stone - 13, Stucco - 14, VinylSld - 15, Wd Sdng - 16, WdShing - 17\n",
    "* MasVnrType : BrkCmn - 1, BrkFace - 2, CBlock - 3, None - 4, Stone - 5\n",
    "* ExterQual : EX - 5, Gd - 4, TA - 3, Fa - 2, Po - 1\n",
    "* ExterCond : EX - 5, Gd - 4, TA - 3, Fa - 2, Po - 1\n",
    "* Foundation : BrkTil - 1, CBlock - 2, PConc - 3, Slab - 4, Stone - 5, Wood - 6\n"
   ]
  },
  {
   "cell_type": "code",
   "execution_count": null,
   "metadata": {
    "collapsed": true
   },
   "outputs": [],
   "source": [
    "df_scatr_cat = pd.read_csv('./data/train.csv', usecols=cols_cat_work1)\n",
    "df_scatr_cat_1 = pd.read_csv('./data/train.csv', usecols=cols_cat_work11)\n",
    "df_scatr_cat_2 = pd.read_csv('./data/train.csv', usecols=cols_cat_work12)\n"
   ]
  },
  {
   "cell_type": "code",
   "execution_count": 14,
   "metadata": {
    "collapsed": true
   },
   "outputs": [
    {
     "ename": "NameError",
     "evalue": "name 'df_scatr_cat_1' is not defined",
     "output_type": "error",
     "traceback": [
      "\u001b[0;31m---------------------------------------------------------------------------\u001b[0m",
      "\u001b[0;31mNameError\u001b[0m                                 Traceback (most recent call last)",
      "\u001b[0;32m<ipython-input-14-5a966fefb3d7>\u001b[0m in \u001b[0;36m<module>\u001b[0;34m()\u001b[0m\n\u001b[0;32m----> 1\u001b[0;31m \u001b[0mcompare_feature_cat_1\u001b[0m \u001b[0;34m=\u001b[0m \u001b[0mdf_scatr_cat_1\u001b[0m\u001b[0;34m.\u001b[0m\u001b[0mcorr\u001b[0m\u001b[0;34m(\u001b[0m\u001b[0;34m)\u001b[0m\u001b[0;34m\u001b[0m\u001b[0m\n\u001b[0m\u001b[1;32m      2\u001b[0m \u001b[0mdraw\u001b[0m \u001b[0;34m=\u001b[0m \u001b[0msns\u001b[0m\u001b[0;34m.\u001b[0m\u001b[0mheatmap\u001b[0m\u001b[0;34m(\u001b[0m\u001b[0mcompare_feature_cat_1\u001b[0m\u001b[0;34m,\u001b[0m \u001b[0mannot\u001b[0m \u001b[0;34m=\u001b[0m \u001b[0;32mTrue\u001b[0m\u001b[0;34m)\u001b[0m\u001b[0;34m\u001b[0m\u001b[0m\n\u001b[1;32m      3\u001b[0m \u001b[0mplt\u001b[0m\u001b[0;34m.\u001b[0m\u001b[0mshow\u001b[0m\u001b[0;34m(\u001b[0m\u001b[0mdraw\u001b[0m\u001b[0;34m)\u001b[0m\u001b[0;34m\u001b[0m\u001b[0m\n",
      "\u001b[0;31mNameError\u001b[0m: name 'df_scatr_cat_1' is not defined"
     ]
    }
   ],
   "source": [
    "compare_feature_cat_1 = df_scatr_cat_1.corr()\n",
    "draw = sns.heatmap(compare_feature_cat_1, annot = True)\n",
    "plt.show(draw)"
   ]
  },
  {
   "cell_type": "code",
   "execution_count": null,
   "metadata": {
    "collapsed": true
   },
   "outputs": [],
   "source": [
    "compare_feature_cat_2 = df_scatr_cat_2.corr()\n",
    "draw = sns.heatmap(compare_feature_cat_2, annot = True)\n",
    "plt.show(draw)"
   ]
  },
  {
   "cell_type": "code",
   "execution_count": null,
   "metadata": {
    "collapsed": true
   },
   "outputs": [],
   "source": [
    "# 논리적 상관관계가 높은 이웃지역변수를 박스플롯화\n",
    "\n",
    "def display_boxplot(feature):\n",
    "    with plt.style.context(('seaborn-white')):\n",
    "        sns.boxplot(x=df_scatr_cat[feature], y=df_scatr_cat['SalePrice'], linewidth=1, palette=\"Set1\", width=0.5)\n",
    "    plt.show()\n",
    "\n",
    "        \n",
    "display_boxplot('Neighborhood')\n"
   ]
  },
  {
   "cell_type": "markdown",
   "metadata": {},
   "source": [
    "* 지역별로 유의미한 평균가격 차이가 보임. 평균가격대가 비슷한 지역들을 그룹화하여 넘버링할 필요 있을 듯.(ex. low=1~12, mid=13~24, high=25~27)"
   ]
  },
  {
   "cell_type": "markdown",
   "metadata": {},
   "source": [
    "### 질적변수 분석결과\n",
    "\n",
    "* Street : 비포장이 1030개 데이터 중 2개 밖에 없음. 배제해도 되지 않을까?\n",
    "* Alley : 입력된 데이터가 너무 적음. 분석이 불가능할 듯.\n",
    "* utilities : 전체가 단일value임. 배제\n",
    "* "
   ]
  },
  {
   "cell_type": "code",
   "execution_count": null,
   "metadata": {
    "collapsed": true
   },
   "outputs": [],
   "source": []
  },
  {
   "cell_type": "code",
   "execution_count": null,
   "metadata": {
    "collapsed": true
   },
   "outputs": [],
   "source": []
  },
  {
   "cell_type": "code",
   "execution_count": null,
   "metadata": {
    "collapsed": true
   },
   "outputs": [],
   "source": []
  },
  {
   "cell_type": "code",
   "execution_count": null,
   "metadata": {
    "collapsed": true
   },
   "outputs": [],
   "source": []
  },
  {
   "cell_type": "markdown",
   "metadata": {
    "collapsed": true
   },
   "source": [
    "# 개인작업_Column 55.~79 분석"
   ]
  },
  {
   "cell_type": "code",
   "execution_count": null,
   "metadata": {
    "collapsed": true
   },
   "outputs": [],
   "source": [
    "df_scatr = pd.read_csv('./data/train.csv')"
   ]
  },
  {
   "cell_type": "code",
   "execution_count": null,
   "metadata": {
    "collapsed": true
   },
   "outputs": [],
   "source": [
    "df_scatr.tail()"
   ]
  },
  {
   "cell_type": "markdown",
   "metadata": {},
   "source": [
    "## 독립표본 t - 검정\n",
    "* only for categorical variables"
   ]
  },
  {
   "cell_type": "code",
   "execution_count": null,
   "metadata": {
    "collapsed": true
   },
   "outputs": [],
   "source": [
    "df_cat = pd.concat([dfy.SalePrice, dfX_cat], axis=1)\n",
    "df_cat.head()"
   ]
  },
  {
   "cell_type": "markdown",
   "metadata": {},
   "source": [
    "### 카테고리 변수 중 단일 값만 소유한 변수 확인\n",
    "* Utilities 변수 확인"
   ]
  },
  {
   "cell_type": "code",
   "execution_count": null,
   "metadata": {
    "collapsed": true
   },
   "outputs": [],
   "source": [
    "for col in dfX_cat.columns:\n",
    "    print(\"%-17s : %s\" % (col, df[col].unique()))"
   ]
  },
  {
   "cell_type": "code",
   "execution_count": null,
   "metadata": {
    "collapsed": true
   },
   "outputs": [],
   "source": [
    "# Utilities 변수 제거\n",
    "df_cat = df_cat.drop('Utilities', axis=1)"
   ]
  },
  {
   "cell_type": "code",
   "execution_count": null,
   "metadata": {
    "collapsed": true
   },
   "outputs": [],
   "source": [
    "tmp_list = df['MasVnrType'].unique()\n",
    "tmp_list"
   ]
  }
 ],
 "metadata": {
  "kernelspec": {
   "display_name": "Python 3",
   "language": "python",
   "name": "python3"
  },
  "language_info": {
   "codemirror_mode": {
    "name": "ipython",
    "version": 3
   },
   "file_extension": ".py",
   "mimetype": "text/x-python",
   "name": "python",
   "nbconvert_exporter": "python",
   "pygments_lexer": "ipython3",
   "version": "3.6.2"
  }
 },
 "nbformat": 4,
 "nbformat_minor": 2
}
